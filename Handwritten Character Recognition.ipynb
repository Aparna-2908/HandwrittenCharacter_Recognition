{
 "cells": [
  {
   "cell_type": "markdown",
   "metadata": {},
   "source": [
    "#CAPTURE IMAGES\n"
   ]
  },
  {
   "cell_type": "code",
   "execution_count": 1,
   "metadata": {},
   "outputs": [],
   "source": [
    "def one_time():\n",
    "    import pyscreenshot as ImageGrab\n",
    "    import time\n",
    "    import os\n",
    "    import time\n",
    "    parent_folder = r\"C:\\Users\\Ramesh Kothari\\Desktop\\ML\\letters_images\\p\"\n",
    "\n",
    "    for i in range(1,41):\n",
    "        time.sleep(10)\n",
    "        # Code to capture and save the image\n",
    "        ig = ImageGrab.grab(bbox=(100, 380, 800, 836))  # x1, y1, x2, y2\n",
    "        letter = \"p\"  \n",
    "        # Save the image in the corresponding folder\n",
    "        folder_path = parent_folder + \"/\" + letter\n",
    "        if not os.path.exists(folder_path):\n",
    "            os.makedirs(folder_path)\n",
    "\n",
    "        image_path = folder_path + \"/\" + str(i) + '.png'\n",
    "        ig.save(image_path)\n",
    "        print(f\"Saved image {i} in folder {letter}\")\n",
    "        print(\"Clear the screen and redraw\")\n"
   ]
  },
  {
   "cell_type": "markdown",
   "metadata": {},
   "source": [
    "#Generate dataset\n"
   ]
  },
  {
   "cell_type": "code",
   "execution_count": 9,
   "metadata": {},
   "outputs": [],
   "source": [
    "import cv2\n",
    "import csv\n",
    "import os\n",
    "\n",
    "def binarize_image(image, threshold=100):\n",
    "    _, binary_image = cv2.threshold(image, threshold, 255, cv2.THRESH_BINARY)\n",
    "    return binary_image\n",
    "\n",
    "header = [\"label\"]\n",
    "for i in range(0, 784):\n",
    "    header.append(\"pixel\" + str(i))\n",
    "\n",
    "main_folder = r\"C:\\Users\\Ramesh Kothari\\Desktop\\ML\\letters_images\"  # Set this variable to the correct path\n",
    "\n",
    "with open('character_dataset.csv', 'a+', newline='') as f:\n",
    "    writer = csv.writer(f)\n",
    "    writer.writerow(header)\n",
    "\n",
    "    for label in range(ord('A'), ord('Z') + 1):\n",
    "        label_char = chr(label)\n",
    "        folder_path = os.path.join(main_folder, label_char, label_char.lower())\n",
    "\n",
    "        if not os.path.exists(folder_path):\n",
    "            continue\n",
    "\n",
    "        dirList = os.listdir(folder_path)\n",
    "\n",
    "        for img_name in dirList:\n",
    "            img_path = os.path.join(folder_path, img_name)\n",
    "            im = cv2.imread(img_path)\n",
    "            if im is None:\n",
    "                print(f\"Failed to load image: {img_path}\")\n",
    "                continue\n",
    "\n",
    "            im_gray = cv2.cvtColor(im, cv2.COLOR_BGR2GRAY)\n",
    "            im_gray = cv2.GaussianBlur(im_gray, (15, 15), 0)\n",
    "            roi = cv2.resize(im_gray, (28, 28), interpolation=cv2.INTER_AREA)\n",
    "\n",
    "            binarized_roi = binarize_image(roi)\n",
    "\n",
    "            data = [label_char]\n",
    "            rows, cols = binarized_roi.shape\n",
    "\n",
    "            # Fill the data array with pixels one by one.\n",
    "            for i in range(rows):\n",
    "                for j in range(cols):\n",
    "                    k = binarized_roi[i, j] // 255  # Normalize to 0 or 1\n",
    "                    data.append(k)\n",
    "\n",
    "            writer.writerow(data)\n"
   ]
  },
  {
   "cell_type": "markdown",
   "metadata": {},
   "source": [
    "#Load the dataset"
   ]
  },
  {
   "cell_type": "code",
   "execution_count": 12,
   "metadata": {},
   "outputs": [
    {
     "name": "stdout",
     "output_type": "stream",
     "text": [
      "    label  pixel0  pixel1  pixel2  pixel3  pixel4  pixel5  pixel6  pixel7  \\\n",
      "96      C       1       1       1       1       1       1       1       1   \n",
      "89      C       1       1       1       1       1       1       1       1   \n",
      "183     H       1       1       1       1       1       1       1       1   \n",
      "12      A       0       0       0       0       0       0       0       0   \n",
      "216     O       1       1       1       1       1       1       1       1   \n",
      "..    ...     ...     ...     ...     ...     ...     ...     ...     ...   \n",
      "197     H       1       1       1       1       1       1       1       1   \n",
      "321     Z       1       1       1       1       1       1       1       1   \n",
      "303     S       1       1       1       1       1       1       1       1   \n",
      "268     P       1       1       1       1       1       1       1       1   \n",
      "285     S       1       1       1       1       1       1       1       1   \n",
      "\n",
      "     pixel8  ...  pixel774  pixel775  pixel776  pixel777  pixel778  pixel779  \\\n",
      "96        1  ...         0         0         0         0         0         0   \n",
      "89        1  ...         0         0         0         0         0         0   \n",
      "183       1  ...         0         0         0         0         0         0   \n",
      "12        0  ...         0         0         0         0         0         0   \n",
      "216       1  ...         0         0         0         0         0         0   \n",
      "..      ...  ...       ...       ...       ...       ...       ...       ...   \n",
      "197       1  ...         0         0         0         0         0         0   \n",
      "321       1  ...         0         0         0         0         0         0   \n",
      "303       1  ...         0         0         0         0         0         0   \n",
      "268       1  ...         0         0         0         0         0         0   \n",
      "285       1  ...         0         0         0         0         0         0   \n",
      "\n",
      "     pixel780  pixel781  pixel782  pixel783  \n",
      "96          0         0         0         1  \n",
      "89          0         0         0         1  \n",
      "183         0         0         0         1  \n",
      "12          0         0         0         0  \n",
      "216         0         0         0         1  \n",
      "..        ...       ...       ...       ...  \n",
      "197         0         0         0         1  \n",
      "321         0         0         0         1  \n",
      "303         0         0         0         1  \n",
      "268         0         0         0         1  \n",
      "285         0         0         0         1  \n",
      "\n",
      "[360 rows x 785 columns]\n"
     ]
    }
   ],
   "source": [
    "import pandas as pd\n",
    "from sklearn.utils import shuffle\n",
    "\n",
    "# Provide the correct file path to the dataset.csv file\n",
    "file_path = r\"C:\\Users\\Ramesh Kothari\\Desktop\\ML\\character_dataset.csv\"\n",
    "\n",
    "data = pd.read_csv(file_path)\n",
    "data = shuffle(data)\n",
    "print(data)\n"
   ]
  },
  {
   "cell_type": "markdown",
   "metadata": {},
   "source": [
    "#Separate dependent and independent variables\n"
   ]
  },
  {
   "cell_type": "code",
   "execution_count": 13,
   "metadata": {},
   "outputs": [],
   "source": [
    "X = data.drop([\"label\"],axis=1)\n",
    "Y= data[\"label\"]"
   ]
  },
  {
   "cell_type": "code",
   "execution_count": 20,
   "metadata": {},
   "outputs": [
    {
     "name": "stdout",
     "output_type": "stream",
     "text": [
      "S\n"
     ]
    },
    {
     "data": {
      "text/plain": [
       "<matplotlib.image.AxesImage at 0x14d64281dc8>"
      ]
     },
     "execution_count": 20,
     "metadata": {},
     "output_type": "execute_result"
    },
    {
     "data": {
      "image/png": "[encoded data removed]",
      "text/plain": [
       "<Figure size 432x288 with 1 Axes>"
      ]
     },
     "metadata": {
      "needs_background": "light"
     },
     "output_type": "display_data"
    }
   ],
   "source": [
    "%matplotlib inline\n",
    "import matplotlib.pyplot as plt\n",
    "import cv2\n",
    "idx = 285\n",
    "img = X.loc[idx].values.reshape(28,28)\n",
    "print(Y[idx])\n",
    "plt.imshow(img)\n"
   ]
  },
  {
   "cell_type": "markdown",
   "metadata": {},
   "source": [
    "#Train test split"
   ]
  },
  {
   "cell_type": "code",
   "execution_count": 21,
   "metadata": {},
   "outputs": [],
   "source": [
    "from sklearn.model_selection import train_test_split #function\n",
    "train_x,test_x,train_y,test_y = train_test_split(X,Y, test_size = 0.2)"
   ]
  },
  {
   "cell_type": "markdown",
   "metadata": {},
   "source": [
    "#Fit the model using svc and also save the model using joblib"
   ]
  },
  {
   "cell_type": "code",
   "execution_count": 23,
   "metadata": {},
   "outputs": [
    {
     "data": {
      "text/plain": [
       "['model/character_recognizer']"
      ]
     },
     "execution_count": 23,
     "metadata": {},
     "output_type": "execute_result"
    }
   ],
   "source": [
    "import os\n",
    "import joblib\n",
    "from sklearn.svm import SVC\n",
    "\n",
    "# Create an instance of the SVM classifier with a linear kernel\n",
    "classifier = SVC(kernel=\"linear\", random_state=6)\n",
    "\n",
    "# Fit the classifier to the training data\n",
    "classifier.fit(train_x, train_y)\n",
    "\n",
    "# Create the \"model\" directory if it doesn't exist\n",
    "if not os.path.exists(\"model\"):\n",
    "    os.makedirs(\"model\")\n",
    "\n",
    "# Save the trained classifier to a file named \"character_recognizer\" in the \"model\" directory\n",
    "joblib.dump(classifier, \"model/character_recognizer\")\n"
   ]
  },
  {
   "cell_type": "markdown",
   "metadata": {},
   "source": [
    "#Calculate accuracy"
   ]
  },
  {
   "cell_type": "code",
   "execution_count": 25,
   "metadata": {},
   "outputs": [
    {
     "name": "stdout",
     "output_type": "stream",
     "text": [
      "Accuracy=  0.875\n"
     ]
    }
   ],
   "source": [
    "from sklearn import metrics\n",
    "prediction=classifier.predict(test_x)\n",
    "print(\"Accuracy= \",metrics.accuracy_score(prediction, test_y))"
   ]
  },
  {
   "cell_type": "markdown",
   "metadata": {},
   "source": [
    "#Prediction for image dataset on paint "
   ]
  },
  {
   "cell_type": "code",
   "execution_count": null,
   "metadata": {},
   "outputs": [
    {
     "name": "stdout",
     "output_type": "stream",
     "text": [
      "Press Enter to capture screenshot and predict:\n",
      "Prediction: P\n"
     ]
    }
   ],
   "source": [
    "import joblib\n",
    "import cv2\n",
    "import numpy as np\n",
    "import time\n",
    "import pyscreenshot as ImageGrab\n",
    "\n",
    "model = joblib.load(\"model/character_recognizer\")\n",
    "image_folder = \"letters_images/\"\n",
    "\n",
    "while True:\n",
    "    input(\"Press Enter to capture screenshot and predict:\")\n",
    "    img = ImageGrab.grab(bbox=(100, 380, 800, 836))\n",
    "    img.save(image_folder + \"img.png\")\n",
    "    im = cv2.imread(image_folder + \"img.png\")\n",
    "    im_gray = cv2.cvtColor(im, cv2.COLOR_BGR2GRAY)\n",
    "    im_gray = cv2.GaussianBlur(im_gray, (15, 15), 0)\n",
    "\n",
    "    # Threshold the image\n",
    "    ret, im_th = cv2.threshold(im_gray, 100, 255, cv2.THRESH_BINARY)\n",
    "    roi = cv2.resize(im_th, (28, 28), interpolation=cv2.INTER_AREA)\n",
    "\n",
    "    rows, cols = roi.shape\n",
    "\n",
    "    X = []\n",
    "\n",
    "    # Fill the data array with pixels one by one.\n",
    "    for i in range(rows):\n",
    "        for j in range(cols):\n",
    "            k = roi[i, j]\n",
    "            if k > 100:\n",
    "                k = 1\n",
    "            else:\n",
    "                k = 0\n",
    "            X.append(k)\n",
    "\n",
    "    predictions = model.predict([X])\n",
    "    print(\"Prediction:\", predictions[0])\n",
    "    cv2.putText(im, \"Prediction is: \" + str(predictions[0]), (20, 20), 0, 0.8, (255, 0, 0), 2, cv2.LINE_AA) #for displaying text\n",
    "\n",
    "\n",
    "    cv2.startWindowThread()\n",
    "    cv2.namedWindow(\"Result\")\n",
    "    cv2.imshow(\"Result\", im)\n",
    "\n",
    "    key = cv2.waitKey(1)\n",
    "    if key == 27:  # 27 is the ASCII value of the 'Esc' key\n",
    "        break\n",
    "\n",
    "cv2.destroyAllWindows()\n"
   ]
  },
  {
   "cell_type": "code",
   "execution_count": null,
   "metadata": {},
   "outputs": [],
   "source": []
  }
 ],
 "metadata": {
  "kernelspec": {
   "display_name": "Python 3",
   "language": "python",
   "name": "python3"
  },
  "language_info": {
   "codemirror_mode": {
    "name": "ipython",
    "version": 3
   },
   "file_extension": ".py",
   "mimetype": "text/x-python",
   "name": "python",
   "nbconvert_exporter": "python",
   "pygments_lexer": "ipython3",
   "version": "3.7.6"
  }
 },
 "nbformat": 4,
 "nbformat_minor": 4
}
